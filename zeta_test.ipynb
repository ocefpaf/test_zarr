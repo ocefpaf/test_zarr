{
 "cells": [
  {
   "cell_type": "code",
   "execution_count": null,
   "metadata": {},
   "outputs": [],
   "source": [
    "import fsspec\n",
    "import zarr\n",
    "from zarr.storage import FileChunkStore\n",
    "\n",
    "store = fsspec.get_mapper('s3://hdf5-zarr/adcirc_01d.nc.chunkstore', anon=False,\n",
    "                          requester_pays=True)\n",
    "ncfile = fsspec.open('s3://pangeo-data-uswest2/esip/adcirc/adcirc_01d.nc',\n",
    "                     mode='rb', anon=False, requester_pays=True,\n",
    "                     default_fill_cache=False)\n",
    "chunk_store = FileChunkStore(store, chunk_source=ncfile.open())\n",
    "\n",
    "zroot = zarr.open_consolidated(store, mode='r', chunk_store=chunk_store)\n",
    "zeta = zroot['zeta']\n",
    "print(zeta[520:530, 1245:1255])\n"
   ]
  }
 ],
 "metadata": {
  "kernelspec": {
   "display_name": "Python 3",
   "language": "python",
   "name": "python3"
  },
  "language_info": {
   "codemirror_mode": {
    "name": "ipython",
    "version": 3
   },
   "file_extension": ".py",
   "mimetype": "text/x-python",
   "name": "python",
   "nbconvert_exporter": "python",
   "pygments_lexer": "ipython3",
   "version": "3.8.3"
  }
 },
 "nbformat": 4,
 "nbformat_minor": 4
}
